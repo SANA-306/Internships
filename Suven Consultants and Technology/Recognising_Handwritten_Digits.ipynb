{
  "nbformat": 4,
  "nbformat_minor": 0,
  "metadata": {
    "colab": {
      "name": "Recognising Handwritten Digits.ipynb",
      "provenance": [],
      "collapsed_sections": []
    },
    "kernelspec": {
      "name": "python3",
      "display_name": "Python 3"
    },
    "language_info": {
      "name": "python"
    }
  },
  "cells": [
    {
      "cell_type": "markdown",
      "metadata": {
        "id": "OZk5cLnIKmcl"
      },
      "source": [
        "##**Recognizing Handwritten Digits**"
      ]
    },
    {
      "cell_type": "markdown",
      "metadata": {
        "id": "fMAXFR2uK8Iz"
      },
      "source": [
        "**Importing Dataset and Libraries**"
      ]
    },
    {
      "cell_type": "code",
      "metadata": {
        "id": "5vdb_iO5KQgl"
      },
      "source": [
        "# importing libraries\n",
        "from sklearn import datasets\n",
        "import seaborn as sns\n",
        "import matplotlib.pyplot as plt\n",
        "%matplotlib inline\n",
        "from sklearn.svm import SVC\n",
        "from sklearn.model_selection import train_test_split\n",
        "from sklearn.metrics import classification_report"
      ],
      "execution_count": null,
      "outputs": []
    },
    {
      "cell_type": "code",
      "metadata": {
        "colab": {
          "base_uri": "https://localhost:8080/"
        },
        "id": "yX9Xg2w0LYdY",
        "outputId": "cb679a0c-7ca9-427a-fa4c-d74726b967f7"
      },
      "source": [
        "# Loading dataset\n",
        "digits = datasets.load_digits()\n",
        "\n",
        "digits.data.size"
      ],
      "execution_count": null,
      "outputs": [
        {
          "output_type": "execute_result",
          "data": {
            "text/plain": [
              "115008"
            ]
          },
          "metadata": {
            "tags": []
          },
          "execution_count": 2
        }
      ]
    },
    {
      "cell_type": "markdown",
      "metadata": {
        "id": "09gejYYhL9zH"
      },
      "source": [
        "The data size is 115008, but group of 64(8x8) elements represent single digits , so there are 115008/64 = 1797 digits."
      ]
    },
    {
      "cell_type": "markdown",
      "metadata": {
        "id": "e3iPSBa2MFUQ"
      },
      "source": [
        "**Lets see how this digits look**"
      ]
    },
    {
      "cell_type": "code",
      "metadata": {
        "colab": {
          "base_uri": "https://localhost:8080/"
        },
        "id": "E_5XtgP6L_oC",
        "outputId": "f9c0b680-f436-4c7d-c27b-f527139ac463"
      },
      "source": [
        "digits.images[0]"
      ],
      "execution_count": null,
      "outputs": [
        {
          "output_type": "execute_result",
          "data": {
            "text/plain": [
              "array([[ 0.,  0.,  5., 13.,  9.,  1.,  0.,  0.],\n",
              "       [ 0.,  0., 13., 15., 10., 15.,  5.,  0.],\n",
              "       [ 0.,  3., 15.,  2.,  0., 11.,  8.,  0.],\n",
              "       [ 0.,  4., 12.,  0.,  0.,  8.,  8.,  0.],\n",
              "       [ 0.,  5.,  8.,  0.,  0.,  9.,  8.,  0.],\n",
              "       [ 0.,  4., 11.,  0.,  1., 12.,  7.,  0.],\n",
              "       [ 0.,  2., 14.,  5., 10., 12.,  0.,  0.],\n",
              "       [ 0.,  0.,  6., 13., 10.,  0.,  0.,  0.]])"
            ]
          },
          "metadata": {
            "tags": []
          },
          "execution_count": 3
        }
      ]
    },
    {
      "cell_type": "markdown",
      "metadata": {
        "id": "I1bo94MQMRxF"
      },
      "source": [
        "*   This is a single element from an array\n",
        "*   The images of the handwritten digits are contained in a digits.images array.\n",
        "*   Each element of this array is an image that is represented by an 8x8 matrix of numerical values that correspond to a grayscale from white, with a value of 0, to black, with the value 15\n"
      ]
    },
    {
      "cell_type": "code",
      "metadata": {
        "id": "hm9jPh6EMoiW",
        "colab": {
          "base_uri": "https://localhost:8080/"
        },
        "outputId": "c79eb973-e51d-418b-dc21-b19210f7f8e4"
      },
      "source": [
        "# target that contains actual result i.e. the numerical values\n",
        "digits.target"
      ],
      "execution_count": 4,
      "outputs": [
        {
          "output_type": "execute_result",
          "data": {
            "text/plain": [
              "array([0, 1, 2, ..., 8, 9, 8])"
            ]
          },
          "metadata": {
            "tags": []
          },
          "execution_count": 4
        }
      ]
    },
    {
      "cell_type": "code",
      "metadata": {
        "colab": {
          "base_uri": "https://localhost:8080/"
        },
        "id": "wYhvMikuQ8V-",
        "outputId": "2f02bce7-9c0a-4324-8db9-d50afd1bf62c"
      },
      "source": [
        "# target size\n",
        "digits.target.size"
      ],
      "execution_count": 5,
      "outputs": [
        {
          "output_type": "execute_result",
          "data": {
            "text/plain": [
              "1797"
            ]
          },
          "metadata": {
            "tags": []
          },
          "execution_count": 5
        }
      ]
    },
    {
      "cell_type": "markdown",
      "metadata": {
        "id": "Wbee4PMFREuR"
      },
      "source": [
        "We can see that target size as 1797. It reprsents the numerical value for each elemet from digits.images"
      ]
    },
    {
      "cell_type": "code",
      "metadata": {
        "colab": {
          "base_uri": "https://localhost:8080/",
          "height": 282
        },
        "id": "ZCL24tFFRGD2",
        "outputId": "882b6b15-f3b1-4b2e-d2ee-ec5eb5d114fa"
      },
      "source": [
        "plt.imshow(digits.images[0], cmap=plt.cm.gray_r, interpolation='nearest')"
      ],
      "execution_count": 6,
      "outputs": [
        {
          "output_type": "execute_result",
          "data": {
            "text/plain": [
              "<matplotlib.image.AxesImage at 0x7f01d8d3d250>"
            ]
          },
          "metadata": {
            "tags": []
          },
          "execution_count": 6
        },
        {
          "output_type": "display_data",
          "data": {
            "image/png": "[encoded data removed]",
            "text/plain": [
              "<Figure size 432x288 with 1 Axes>"
            ]
          },
          "metadata": {
            "tags": [],
            "needs_background": "light"
          }
        }
      ]
    },
    {
      "cell_type": "markdown",
      "metadata": {
        "id": "_GlFtdKqRL8Z"
      },
      "source": [
        "**Divide the dataset into train and test dataset**"
      ]
    },
    {
      "cell_type": "markdown",
      "metadata": {
        "id": "4K-uINtZRUc4"
      },
      "source": [
        "This dataset contains 1,797 elements, and so you can consider the first 1,791 as a training set and will use the last six as a validation set"
      ]
    },
    {
      "cell_type": "code",
      "metadata": {
        "id": "PzPzm-4yRQOK"
      },
      "source": [
        "X_train = digits.data[0:1791]\n",
        "Y_train = digits.target[0:1791]\n",
        "X_test = digits.data[1791:1797]\n",
        "Y_test = digits.target[1791:1797]"
      ],
      "execution_count": 7,
      "outputs": []
    },
    {
      "cell_type": "code",
      "metadata": {
        "colab": {
          "base_uri": "https://localhost:8080/"
        },
        "id": "dSfCLYmaRZc_",
        "outputId": "e4fe86fb-555d-40fa-ae02-21a8e6db798c"
      },
      "source": [
        "print(X_train.size,Y_train.size,X_test.size,Y_test.size)"
      ],
      "execution_count": 8,
      "outputs": [
        {
          "output_type": "stream",
          "text": [
            "114624 1791 384 6\n"
          ],
          "name": "stdout"
        }
      ]
    },
    {
      "cell_type": "markdown",
      "metadata": {
        "id": "mhLCtMpIRgmx"
      },
      "source": [
        "**Testing data set looks**"
      ]
    },
    {
      "cell_type": "code",
      "metadata": {
        "colab": {
          "base_uri": "https://localhost:8080/",
          "height": 248
        },
        "id": "Hxs8G1wjRkCh",
        "outputId": "7a6e5072-d8aa-49cc-faeb-837ebbd22400"
      },
      "source": [
        "plt.figure(figsize=(20,4))\n",
        "for i in range(Y_test.size):\n",
        "    plt.subplot(161+i)\n",
        "    plt.imshow(digits.images[1791+i], cmap=plt.cm.gray_r,interpolation='nearest')\n",
        "    plt.title('Training: %i\\n' % i,fontsize=18)"
      ],
      "execution_count": 9,
      "outputs": [
        {
          "output_type": "display_data",
          "data": {
            "image/png": "[encoded data removed]",
            "text/plain": [
              "<Figure size 1440x288 with 6 Axes>"
            ]
          },
          "metadata": {
            "tags": [],
            "needs_background": "light"
          }
        }
      ]
    },
    {
      "cell_type": "code",
      "metadata": {
        "id": "Y6mK3aDERvDl"
      },
      "source": [
        "svc = SVC(gamma=0.001, C=100.)"
      ],
      "execution_count": 10,
      "outputs": []
    },
    {
      "cell_type": "code",
      "metadata": {
        "colab": {
          "base_uri": "https://localhost:8080/"
        },
        "id": "V4RHrqHnRyPt",
        "outputId": "57673948-67bd-4869-a05e-3a43061d4cf0"
      },
      "source": [
        "# Fiiting the model and predicting the result\n",
        "svc.fit(X_train,Y_train)\n",
        "predict = svc.predict(X_test)\n",
        "svc.score(X_test,Y_test)"
      ],
      "execution_count": 11,
      "outputs": [
        {
          "output_type": "execute_result",
          "data": {
            "text/plain": [
              "1.0"
            ]
          },
          "metadata": {
            "tags": []
          },
          "execution_count": 11
        }
      ]
    },
    {
      "cell_type": "markdown",
      "metadata": {
        "id": "WfAh1r2sR4r4"
      },
      "source": [
        "**Here we got 100% accuracy,**\n",
        "\n",
        "\n",
        "**To test the hypothesis, we will use three different size for train and test data**"
      ]
    },
    {
      "cell_type": "markdown",
      "metadata": {
        "id": "1rZbVzDUSPsi"
      },
      "source": [
        "**1] Train and test divided in the ratio 9:1**"
      ]
    },
    {
      "cell_type": "code",
      "metadata": {
        "colab": {
          "base_uri": "https://localhost:8080/"
        },
        "id": "kx2AOo2QSGza",
        "outputId": "a81e5304-39fb-4db9-bf3c-32b6028a611b"
      },
      "source": [
        "# divide data set into 9:1 ratio\n",
        "X_train, X_test, Y_train, Y_test = train_test_split(digits.data, digits.target, test_size=0.1, random_state=0)\n",
        "\n",
        "#check the size of train and test\n",
        "print(\"Data set divided in ratio 9:1\")\n",
        "print(\"X_train :\",X_train.size,\"\\tY_train :\",Y_train.size,\"\\nX_test :\",X_test.size,\"\\tY_test :\",Y_test.size)\n",
        "\n",
        "#fitting and predicting\n",
        "svc.fit(X_train,Y_train)\n",
        "predict = svc.predict(X_test)\n",
        "score_1=svc.score(X_test,Y_test)\n",
        "print(\"Accuracy : \",score_1)"
      ],
      "execution_count": 12,
      "outputs": [
        {
          "output_type": "stream",
          "text": [
            "Data set divided in ratio 9:1\n",
            "X_train : 103488 \tY_train : 1617 \n",
            "X_test : 11520 \tY_test : 180\n",
            "Accuracy :  0.9888888888888889\n"
          ],
          "name": "stdout"
        }
      ]
    },
    {
      "cell_type": "markdown",
      "metadata": {
        "id": "rz5p6J1DSZ8D"
      },
      "source": [
        "**Classification Report**"
      ]
    },
    {
      "cell_type": "code",
      "metadata": {
        "colab": {
          "base_uri": "https://localhost:8080/"
        },
        "id": "M3Nq3bJMSceR",
        "outputId": "97db07cb-b7a7-4d5c-88f3-0b0975d48107"
      },
      "source": [
        "print(f\"Classification report for classifier SVC :\\n\"f\"{classification_report(Y_test, predict)}\\n\")"
      ],
      "execution_count": 13,
      "outputs": [
        {
          "output_type": "stream",
          "text": [
            "Classification report for classifier SVC :\n",
            "              precision    recall  f1-score   support\n",
            "\n",
            "           0       1.00      1.00      1.00        11\n",
            "           1       0.95      1.00      0.98        20\n",
            "           2       1.00      1.00      1.00        16\n",
            "           3       1.00      1.00      1.00        10\n",
            "           4       1.00      1.00      1.00        10\n",
            "           5       0.95      1.00      0.98        21\n",
            "           6       1.00      1.00      1.00        25\n",
            "           7       1.00      1.00      1.00        20\n",
            "           8       1.00      0.96      0.98        23\n",
            "           9       1.00      0.96      0.98        24\n",
            "\n",
            "    accuracy                           0.99       180\n",
            "   macro avg       0.99      0.99      0.99       180\n",
            "weighted avg       0.99      0.99      0.99       180\n",
            "\n",
            "\n"
          ],
          "name": "stdout"
        }
      ]
    },
    {
      "cell_type": "markdown",
      "metadata": {
        "id": "Y8ATpCfnStqw"
      },
      "source": [
        "**2] Train and test divided in the ratio 8:2**"
      ]
    },
    {
      "cell_type": "code",
      "metadata": {
        "colab": {
          "base_uri": "https://localhost:8080/"
        },
        "id": "w6ef_8ZsS_S1",
        "outputId": "6d851f4d-7348-405e-deab-32931d43b50f"
      },
      "source": [
        "# divide data set into 9:1 ratio\n",
        "X_train, X_test, Y_train, Y_test = train_test_split(digits.data, digits.target, test_size=0.2, random_state=0)\n",
        "\n",
        "#check the size of train and test\n",
        "print(\"Data set divided in ratio 8:2\")\n",
        "print(\"X_train :\",X_train.size,\"\\tY_train :\",Y_train.size,\"\\nX_test :\",X_test.size,\"\\tY_test :\",Y_test.size)\n",
        "\n",
        "#fitting and predicting\n",
        "svc.fit(X_train,Y_train)\n",
        "predict = svc.predict(X_test)\n",
        "score_2 = svc.score(X_test,Y_test)\n",
        "print(\"Accuracy : \",score_2)"
      ],
      "execution_count": 14,
      "outputs": [
        {
          "output_type": "stream",
          "text": [
            "Data set divided in ratio 8:2\n",
            "X_train : 91968 \tY_train : 1437 \n",
            "X_test : 23040 \tY_test : 360\n",
            "Accuracy :  0.9916666666666667\n"
          ],
          "name": "stdout"
        }
      ]
    },
    {
      "cell_type": "markdown",
      "metadata": {
        "id": "W0WFbwltTJce"
      },
      "source": [
        "**Classification Report**"
      ]
    },
    {
      "cell_type": "code",
      "metadata": {
        "colab": {
          "base_uri": "https://localhost:8080/"
        },
        "id": "6D9DGdclTSwz",
        "outputId": "f4c29317-0672-443b-dc2f-231d6ac19a0b"
      },
      "source": [
        "print(f\"Classification report for classifier SVC :\\n\" f\"{classification_report(Y_test, predict)}\\n\")"
      ],
      "execution_count": 15,
      "outputs": [
        {
          "output_type": "stream",
          "text": [
            "Classification report for classifier SVC :\n",
            "              precision    recall  f1-score   support\n",
            "\n",
            "           0       1.00      1.00      1.00        27\n",
            "           1       0.97      1.00      0.99        35\n",
            "           2       1.00      1.00      1.00        36\n",
            "           3       1.00      1.00      1.00        29\n",
            "           4       1.00      1.00      1.00        30\n",
            "           5       0.97      0.97      0.97        40\n",
            "           6       1.00      1.00      1.00        44\n",
            "           7       1.00      1.00      1.00        39\n",
            "           8       1.00      0.97      0.99        39\n",
            "           9       0.98      0.98      0.98        41\n",
            "\n",
            "    accuracy                           0.99       360\n",
            "   macro avg       0.99      0.99      0.99       360\n",
            "weighted avg       0.99      0.99      0.99       360\n",
            "\n",
            "\n"
          ],
          "name": "stdout"
        }
      ]
    },
    {
      "cell_type": "markdown",
      "metadata": {
        "id": "H5Jqq2XtSzZf"
      },
      "source": [
        "**3] Train and test divided in the ratio 7:3**"
      ]
    },
    {
      "cell_type": "code",
      "metadata": {
        "colab": {
          "base_uri": "https://localhost:8080/"
        },
        "id": "JsVdPU3ETPfw",
        "outputId": "6b86bac2-7376-4dee-8ba4-ee1976a1448c"
      },
      "source": [
        "# divide data set into 9:1 ratio\n",
        "X_train, X_test, Y_train, Y_test = train_test_split(digits.data, digits.target, test_size=0.3, random_state=0)\n",
        "\n",
        "#check the size of train and test\n",
        "print(\"Data set divided in ratio 7:3\")\n",
        "print(\"X_train :\",X_train.size,\"\\tY_train :\",Y_train.size,\"\\nX_test :\",X_test.size,\"\\tY_test :\",Y_test.size)\n",
        "\n",
        "#fitting and predicting\n",
        "svc.fit(X_train,Y_train)\n",
        "predict = svc.predict(X_test)\n",
        "score_3 = svc.score(X_test,Y_test)\n",
        "print(\"Accuracy : \",score_3)"
      ],
      "execution_count": 16,
      "outputs": [
        {
          "output_type": "stream",
          "text": [
            "Data set divided in ratio 7:3\n",
            "X_train : 80448 \tY_train : 1257 \n",
            "X_test : 34560 \tY_test : 540\n",
            "Accuracy :  0.9907407407407407\n"
          ],
          "name": "stdout"
        }
      ]
    },
    {
      "cell_type": "markdown",
      "metadata": {
        "id": "-NbgbcUvTOqF"
      },
      "source": [
        "**Classification Report**"
      ]
    },
    {
      "cell_type": "code",
      "metadata": {
        "colab": {
          "base_uri": "https://localhost:8080/"
        },
        "id": "ml8UxJdWTALS",
        "outputId": "99f005af-3c84-4cf3-b461-6a3cda8d7de8"
      },
      "source": [
        "print(f\"Classification report for classifier SVC :\\n\" f\"{classification_report(Y_test, predict)}\\n\")"
      ],
      "execution_count": 17,
      "outputs": [
        {
          "output_type": "stream",
          "text": [
            "Classification report for classifier SVC :\n",
            "              precision    recall  f1-score   support\n",
            "\n",
            "           0       1.00      1.00      1.00        45\n",
            "           1       0.98      1.00      0.99        52\n",
            "           2       1.00      0.98      0.99        53\n",
            "           3       1.00      1.00      1.00        54\n",
            "           4       1.00      1.00      1.00        48\n",
            "           5       0.98      0.96      0.97        57\n",
            "           6       0.98      1.00      0.99        60\n",
            "           7       0.98      1.00      0.99        53\n",
            "           8       1.00      0.98      0.99        61\n",
            "           9       0.98      0.98      0.98        57\n",
            "\n",
            "    accuracy                           0.99       540\n",
            "   macro avg       0.99      0.99      0.99       540\n",
            "weighted avg       0.99      0.99      0.99       540\n",
            "\n",
            "\n"
          ],
          "name": "stdout"
        }
      ]
    },
    {
      "cell_type": "markdown",
      "metadata": {
        "id": "qv0SFLr6Sz1A"
      },
      "source": [
        "**4] Train and test divided in the ratio 6:4**"
      ]
    },
    {
      "cell_type": "code",
      "metadata": {
        "colab": {
          "base_uri": "https://localhost:8080/"
        },
        "id": "YipOrbVFTQir",
        "outputId": "2392182c-bc1b-46aa-97ec-daa5c3566620"
      },
      "source": [
        "# divide data set into 9:1 ratio\n",
        "X_train, X_test, Y_train, Y_test = train_test_split(digits.data, digits.target, test_size=0.4, random_state=0)\n",
        "\n",
        "#check the size of train and test\n",
        "print(\"Data set divided in ratio 6:4\")\n",
        "print(\"X_train :\",X_train.size,\"\\tY_train :\",Y_train.size,\"\\nX_test :\",X_test.size,\"\\tY_test :\",Y_test.size)\n",
        "\n",
        "#fitting and predicting\n",
        "svc.fit(X_train,Y_train)\n",
        "predict = svc.predict(X_test)\n",
        "score_4 = svc.score(X_test,Y_test)\n",
        "print(\"Accuracy : \",score_4)"
      ],
      "execution_count": 18,
      "outputs": [
        {
          "output_type": "stream",
          "text": [
            "Data set divided in ratio 6:4\n",
            "X_train : 68992 \tY_train : 1078 \n",
            "X_test : 46016 \tY_test : 719\n",
            "Accuracy :  0.9874826147426982\n"
          ],
          "name": "stdout"
        }
      ]
    },
    {
      "cell_type": "markdown",
      "metadata": {
        "id": "ad0SIR8nTMdq"
      },
      "source": [
        "**Classification Report**"
      ]
    },
    {
      "cell_type": "code",
      "metadata": {
        "colab": {
          "base_uri": "https://localhost:8080/"
        },
        "id": "_3x-pn7tTA0h",
        "outputId": "c890fe84-8f4b-4116-b7f4-76bd66528a9a"
      },
      "source": [
        "print(f\"Classification report for classifier SVC :\\n\" f\"{classification_report(Y_test, predict)}\\n\")"
      ],
      "execution_count": 19,
      "outputs": [
        {
          "output_type": "stream",
          "text": [
            "Classification report for classifier SVC :\n",
            "              precision    recall  f1-score   support\n",
            "\n",
            "           0       1.00      1.00      1.00        60\n",
            "           1       0.95      1.00      0.97        73\n",
            "           2       1.00      0.97      0.99        71\n",
            "           3       1.00      1.00      1.00        70\n",
            "           4       1.00      1.00      1.00        63\n",
            "           5       0.99      0.97      0.98        89\n",
            "           6       0.99      1.00      0.99        76\n",
            "           7       0.98      1.00      0.99        65\n",
            "           8       1.00      0.96      0.98        78\n",
            "           9       0.97      0.99      0.98        74\n",
            "\n",
            "    accuracy                           0.99       719\n",
            "   macro avg       0.99      0.99      0.99       719\n",
            "weighted avg       0.99      0.99      0.99       719\n",
            "\n",
            "\n"
          ],
          "name": "stdout"
        }
      ]
    },
    {
      "cell_type": "code",
      "metadata": {
        "id": "xJRCKsenTq4n"
      },
      "source": [
        "accuracy =[score_1,score_2,score_3,score_4]\n",
        "size = ['9:1','8:2','7:3','6:4']"
      ],
      "execution_count": 20,
      "outputs": []
    },
    {
      "cell_type": "code",
      "metadata": {
        "colab": {
          "base_uri": "https://localhost:8080/",
          "height": 321
        },
        "id": "yJjqpBqQTtdc",
        "outputId": "0730c6a8-6744-4972-913f-1b6cfa26a094"
      },
      "source": [
        "plt.plot(accuracy,'mo--')\n",
        "plt.xticks([0, 1, 2, 3], size)\n",
        "plt.title('Accuracy Score For different data size',fontsize = 18)\n",
        "plt.ylabel('Accuracy Score',fontsize = 15)\n",
        "plt.xlabel('train test ratio',fontsize = 15)"
      ],
      "execution_count": 21,
      "outputs": [
        {
          "output_type": "execute_result",
          "data": {
            "text/plain": [
              "Text(0.5, 0, 'train test ratio')"
            ]
          },
          "metadata": {
            "tags": []
          },
          "execution_count": 21
        },
        {
          "output_type": "display_data",
          "data": {
            "image/png": "[encoded data removed]",
            "text/plain": [
              "<Figure size 432x288 with 1 Axes>"
            ]
          },
          "metadata": {
            "tags": [],
            "needs_background": "light"
          }
        }
      ]
    },
    {
      "cell_type": "markdown",
      "metadata": {
        "id": "PEDMYSqqT05T"
      },
      "source": [
        "**We applied SVC model on different data size for training and testing purpose and we get accuracy Above 95%**<br>\n",
        "\n",
        "**Hence , we have to accept the NULL HYPOTHESIS**"
      ]
    }
  ]
}